{
 "cells": [
  {
   "cell_type": "code",
   "execution_count": null,
   "id": "0c32290b-281d-41bf-9581-62723395e542",
   "metadata": {},
   "outputs": [],
   "source": [
    "import numpy as np\n",
    "from osgeo import gdal\n",
    "from read_tif import read_tif  \n",
    "import os\n",
    "\n",
    "def write_tif(im_data, im_geotrans, im_proj, path):\n",
    "    \"\"\"\n",
    "    Write a numpy array as a GeoTIFF file.\n",
    "\n",
    "    Parameters\n",
    "    ----------\n",
    "    im_data : ndarray\n",
    "        Raster data (2D or 3D). If 2D, will be converted to a single-band image.\n",
    "    im_geotrans : tuple\n",
    "        Affine transform (from original image).\n",
    "    im_proj : str\n",
    "        Projection information (WKT).\n",
    "    path : str\n",
    "        Output file path.\n",
    "    \"\"\"\n",
    "\n",
    "    # Replace invalid values (inf, -inf, NaN) with a nodata value\n",
    "    im_data = np.where(np.isfinite(im_data), im_data, -999)\n",
    "\n",
    "    # Define GDAL data type\n",
    "    if 'int8' in im_data.dtype.name:\n",
    "        datatype = gdal.GDT_Byte\n",
    "    elif 'int16' in im_data.dtype.name:\n",
    "        datatype = gdal.GDT_UInt16\n",
    "    else:\n",
    "        datatype = gdal.GDT_Float32\n",
    "\n",
    "    # Ensure im_data has shape (bands, rows, cols)\n",
    "    if len(im_data.shape) == 2:\n",
    "        im_data = np.expand_dims(im_data, axis=0)\n",
    "    im_bands, im_height, im_width = im_data.shape\n",
    "\n",
    "    # Create GeoTIFF\n",
    "    driver = gdal.GetDriverByName(\"GTiff\")\n",
    "    dataset = driver.Create(path, int(im_width), int(im_height), int(im_bands), datatype)\n",
    "\n",
    "    nodata_value = -999\n",
    "    if dataset is not None:\n",
    "        dataset.SetGeoTransform(im_geotrans)\n",
    "        dataset.SetProjection(im_proj)\n",
    "\n",
    "        for i in range(im_bands):\n",
    "            band = dataset.GetRasterBand(i + 1)\n",
    "            band.SetNoDataValue(nodata_value)\n",
    "            band.WriteArray(im_data[i])\n",
    "\n",
    "    # Release resources\n",
    "    dataset = None"
   ]
  },
  {
   "cell_type": "code",
   "execution_count": null,
   "id": "eaf8a0f8-dbd7-4019-a1cc-c4bf7ab54692",
   "metadata": {},
   "outputs": [],
   "source": [
    "if __name__ == \"__main__\":\n",
    "    ref_path = \"example.tif\"     # replace with your own file\n",
    "    data_ref, X, Y, geotrans, proj, bands = read_tif(ref_path)\n",
    "    write_tif(data_ref, geotrans, proj, \"copy_example.tif\")\n",
    "    print(\"Saved:\", \"copy_example.tif\")"
   ]
  }
 ],
 "metadata": {
  "kernelspec": {
   "display_name": "Python 3 (ipykernel)",
   "language": "python",
   "name": "python3"
  },
  "language_info": {
   "codemirror_mode": {
    "name": "ipython",
    "version": 3
   },
   "file_extension": ".py",
   "mimetype": "text/x-python",
   "name": "python",
   "nbconvert_exporter": "python",
   "pygments_lexer": "ipython3",
   "version": "3.9.23"
  }
 },
 "nbformat": 4,
 "nbformat_minor": 5
}
