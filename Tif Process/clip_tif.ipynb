{
 "cells": [
  {
   "cell_type": "code",
   "execution_count": null,
   "id": "39f0b844-f3b9-436a-9545-815471b4495c",
   "metadata": {},
   "outputs": [],
   "source": [
    "from osgeo import gdal\n",
    "import os\n",
    "\n",
    "def clip_by_shp(input_folder, output_folder, shp_file):\n",
    "    \"\"\"Clip all GeoTIFFs in a folder by a shapefile.\"\"\"\n",
    "    os.makedirs(output_folder, exist_ok=True)\n",
    "    files = [f for f in os.listdir(input_folder) if f.lower().endswith(\".tif\")]\n",
    "    total = len(files)\n",
    "\n",
    "    for i, f in enumerate(files, 1):\n",
    "        in_path = os.path.join(input_folder, f)\n",
    "        out_path = os.path.join(output_folder, f)\n",
    "\n",
    "        gdal.Warp(out_path, in_path,\n",
    "                  cutlineDSName=shp_file,\n",
    "                  cropToCutline=True,\n",
    "                  dstNodata=-999)\n",
    "\n",
    "        print(f\"[{i}/{total}] Clipped: {out_path}\", end=\"\\r\")"
   ]
  },
  {
   "cell_type": "code",
   "execution_count": null,
   "id": "e649e7c9-80f4-4994-909f-4edf3e20b99c",
   "metadata": {},
   "outputs": [],
   "source": [
    "if __name__ == \"__main__\":\n",
    "    clip_by_shp(\n",
    "        input_folder,\n",
    "        output_folder,\n",
    "       shp_file\n",
    "    )"
   ]
  }
 ],
 "metadata": {
  "kernelspec": {
   "display_name": "Python 3 (ipykernel)",
   "language": "python",
   "name": "python3"
  },
  "language_info": {
   "codemirror_mode": {
    "name": "ipython",
    "version": 3
   },
   "file_extension": ".py",
   "mimetype": "text/x-python",
   "name": "python",
   "nbconvert_exporter": "python",
   "pygments_lexer": "ipython3",
   "version": "3.9.23"
  }
 },
 "nbformat": 4,
 "nbformat_minor": 5
}
