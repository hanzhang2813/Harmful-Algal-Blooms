{
 "cells": [
  {
   "cell_type": "code",
   "execution_count": null,
   "id": "86410cb8-9f25-472a-93d2-5ef7bf9da6fb",
   "metadata": {},
   "outputs": [],
   "source": [
    "import os\n",
    "import shutil\n",
    "\n",
    "def group_tif_by_year(input_folder, root_output_folder):\n",
    "    \"\"\"\n",
    "    Group GeoTIFF files by year (extracted from file name).\n",
    "    \n",
    "    Parameters\n",
    "    ----------\n",
    "    input_folder : str\n",
    "        Path to the folder containing .tif files.\n",
    "    root_output_folder : str\n",
    "        Path to the root output folder, where subfolders by year will be created.\n",
    "    \"\"\"\n",
    "\n",
    "    os.makedirs(root_output_folder, exist_ok=True)\n",
    "\n",
    "    # Get all tif files\n",
    "    input_files = [f for f in os.listdir(input_folder) if f.lower().endswith('.tif')]\n",
    "\n",
    "    for input_file in input_files:\n",
    "        # Extract year from file name\n",
    "        # Example: \"2020_XX.tif\" -> year = \"2020\"\n",
    "        date_str = input_file[:-4]  # remove \".tif\"\n",
    "        tif_year, _ = date_str.split(\"_\")  # adjust according to your file naming\n",
    "\n",
    "        # Create output folder by year\n",
    "        output_folder = os.path.join(root_output_folder, tif_year)\n",
    "        os.makedirs(output_folder, exist_ok=True)\n",
    "\n",
    "        # Copy file to target folder\n",
    "        source_file = os.path.join(input_folder, input_file)\n",
    "        target_file = os.path.join(output_folder, input_file)\n",
    "        shutil.copy2(source_file, target_file)\n",
    "\n",
    "        print(f\"Done: {input_file}\", end=\"\\r\")"
   ]
  },
  {
   "cell_type": "code",
   "execution_count": null,
   "id": "45f19b82-2ba8-459a-a56a-551d5f760f7d",
   "metadata": {},
   "outputs": [],
   "source": [
    "if __name__ == \"__main__\":\n",
    "    group_tif_by_year(\"input_tifs\", \"output_by_year\")"
   ]
  }
 ],
 "metadata": {
  "kernelspec": {
   "display_name": "Python 3 (ipykernel)",
   "language": "python",
   "name": "python3"
  },
  "language_info": {
   "codemirror_mode": {
    "name": "ipython",
    "version": 3
   },
   "file_extension": ".py",
   "mimetype": "text/x-python",
   "name": "python",
   "nbconvert_exporter": "python",
   "pygments_lexer": "ipython3",
   "version": "3.9.23"
  }
 },
 "nbformat": 4,
 "nbformat_minor": 5
}
