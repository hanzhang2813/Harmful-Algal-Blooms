{
 "cells": [
  {
   "cell_type": "code",
   "execution_count": null,
   "id": "68e3c5da-0a28-4f3d-bd5e-fe238e92b480",
   "metadata": {},
   "outputs": [],
   "source": [
    "import pandas as pd\n",
    "import joblib\n",
    "from sklearn.model_selection import train_test_split\n",
    "from sklearn.preprocessing import StandardScaler\n",
    "from sklearn.metrics import (\n",
    "    accuracy_score, precision_score, recall_score,\n",
    "    f1_score, cohen_kappa_score, confusion_matrix, ConfusionMatrixDisplay\n",
    ")\n",
    "import matplotlib.pyplot as plt\n",
    "from xgboost import XGBClassifier\n",
    "\n",
    "# ---------- Evaluation ----------\n",
    "def evaluate(y_true, y_pred, title=\"\"):\n",
    "    acc = accuracy_score(y_true, y_pred)\n",
    "    pre = precision_score(y_true, y_pred)\n",
    "    rec = recall_score(y_true, y_pred)\n",
    "    f1 = f1_score(y_true, y_pred)\n",
    "    kappa = cohen_kappa_score(y_true, y_pred)\n",
    "\n",
    "    print(f\"\\n--- {title} ---\")\n",
    "    print(\"Accuracy :\", round(acc, 4))\n",
    "    print(\"Precision:\", round(pre, 4))\n",
    "    print(\"Recall   :\", round(rec, 4))\n",
    "    print(\"F1 Score :\", round(f1, 4))\n",
    "    print(\"Kappa    :\", round(kappa, 4))\n",
    "\n",
    "    cm = confusion_matrix(y_true, y_pred)\n",
    "    disp = ConfusionMatrixDisplay(confusion_matrix=cm)\n",
    "    disp.plot(cmap=\"Blues\")\n",
    "    plt.show()"
   ]
  },
  {
   "cell_type": "code",
   "execution_count": null,
   "id": "0c754ea6-1d05-4aa9-a837-20a1092fac36",
   "metadata": {},
   "outputs": [],
   "source": [
    "# ---------- Load data ----------\n",
    "df = pd.read_excel(r\".....xlsx\")\n",
    "target = df[\"..\"]\n",
    "data = df.iloc[:, 1:]  # skip first col if it's ID"
   ]
  },
  {
   "cell_type": "code",
   "execution_count": null,
   "id": "c52dff28-34ee-468d-b497-f293985a2617",
   "metadata": {},
   "outputs": [],
   "source": [
    "# ---------- Train/test split ----------\n",
    "xtrain, xtest, ytrain, ytest = train_test_split(\n",
    "    data, target, test_size=0.2, random_state=28, stratify=target)\n",
    "\n",
    "# ---------- Standardize ----------\n",
    "scaler = StandardScaler()\n",
    "xtrains = scaler.fit_transform(xtrain)\n",
    "xtests = scaler.transform(xtest)\n",
    "joblib.dump(scaler, r\"....pkl\")"
   ]
  },
  {
   "cell_type": "code",
   "execution_count": null,
   "id": "770798eb-6301-46c7-81ab-83bc12d801af",
   "metadata": {},
   "outputs": [],
   "source": [
    "# ---------- Train model (XGBoost as example) ----------\n",
    "model = XGBClassifier(\n",
    "    n_estimators=100,\n",
    "    max_depth=6,\n",
    "    learning_rate=0.1,\n",
    "    subsample=0.8,\n",
    "    random_state=42,\n",
    "    n_jobs=-1,\n",
    "    use_label_encoder=False,\n",
    "    eval_metric=\"logloss\"\n",
    ")\n",
    "\n",
    "model.fit(xtrains, ytrain)\n",
    "\n",
    "joblib.dump(model, r\"D:\\Desktop\\global\\model\\co2\\CO2.pkl\")"
   ]
  },
  {
   "cell_type": "code",
   "execution_count": null,
   "id": "1829fd00-f28d-4655-b3f8-54be3eed7c49",
   "metadata": {},
   "outputs": [],
   "source": [
    "# ---------- Train set performance ----------\n",
    "ypred_train = model.predict(xtrains)\n",
    "evaluate(ytrain, ypred_train, title=\"Train Set\")\n",
    "\n",
    "# ---------- Test set performance ----------\n",
    "ypred_test = model.predict(xtests)\n",
    "evaluate(ytest, ypred_test, title=\"Test Set\")\n"
   ]
  }
 ],
 "metadata": {
  "kernelspec": {
   "display_name": "Python 3 (ipykernel)",
   "language": "python",
   "name": "python3"
  },
  "language_info": {
   "codemirror_mode": {
    "name": "ipython",
    "version": 3
   },
   "file_extension": ".py",
   "mimetype": "text/x-python",
   "name": "python",
   "nbconvert_exporter": "python",
   "pygments_lexer": "ipython3",
   "version": "3.9.23"
  }
 },
 "nbformat": 4,
 "nbformat_minor": 5
}
